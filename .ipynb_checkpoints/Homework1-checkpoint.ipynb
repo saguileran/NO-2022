{
 "cells": [
  {
   "cell_type": "markdown",
   "id": "42b99b06",
   "metadata": {},
   "source": [
    "<center> <h1> <b>HOMEWORK # 1<b></h1> </center>\n",
    "<center> <h2> Numerical Opmitization - 2022</h2> </center>\n",
    "<center> <h3> Sebastian Aguilera Novoa</h3> </center>"
   ]
  },
  {
   "cell_type": "markdown",
   "id": "f2d661ea",
   "metadata": {
    "tags": []
   },
   "source": [
    "## 1.\n",
    "\n",
    "Let $A \\subset \\mathbb{R}$, such that $\\textrm{inf} \\; A$ is finite o $\\textrm{inf} \\; A = -\\infty$. Prove that there is a sucesion $(a_n)_{n\\in \\mathbb{N}} $ of elements in $A$ such that $a_n \\to \\textrm{inf} \\; A$ when $n\\to \\infty$\n",
    "\n",
    "### Solution"
   ]
  },
  {
   "cell_type": "markdown",
   "id": "05f9e4e4",
   "metadata": {},
   "source": [
    "## 2.\n",
    "\n",
    "Suppose that $\\Omega$ is a closed set not empty and $f$ is a continious and cohercive function in $\\Omega$. Prove that given $R>0$ the set\n",
    "\n",
    "$$ \\Omega_R := \\{x\\in \\Omega | f(x) \\leq R\\}$$\n",
    "\n",
    "is closed and bounded.\n",
    "\n",
    "### Solution"
   ]
  },
  {
   "cell_type": "markdown",
   "id": "bef092ba",
   "metadata": {},
   "source": [
    "## 3.\n",
    "\n",
    "Prove that the quadratic optimization problem\n",
    "\n",
    "$$ \\min _{x \\in \\Omega} x^{T} Q x+c^{T} x $$\n",
    "\n",
    "where $\\Omega \\subset \\mathbb{R}^n$ is a closed set, $x,c \\in \\mathbb{R}^n$ and the matrix $Q \\in \\mathbb{R}^{n\\times n}$, admit at least one global solution.\n",
    "\n",
    "### Solution"
   ]
  },
  {
   "cell_type": "markdown",
   "id": "00904b67",
   "metadata": {},
   "source": [
    "## 4.\n",
    "\n",
    "Given a set of $n$ points in the plane. Find the circle of minimum radius containing all these points.\n",
    "\n",
    "a) Consider this problem as an optimization problem restricted with an objective lineal function and quadratic restrictions.\n",
    "\n",
    "b) Prove that the problem has unique solution.\n",
    "\n",
    "### Solution\n",
    "\n",
    "#### a)\n",
    "\n",
    "#### b)"
   ]
  },
  {
   "cell_type": "markdown",
   "id": "31197778",
   "metadata": {},
   "source": [
    "## 5.\n",
    "\n",
    "Let $S=\\{1,2,...,M \\}$ a set of $M$ objects, with $p_i$ the weight of the $i$-th object and $v_i$ its value $i=1,2,...,M $. It is a matter of carrying in a bag objects from $S$, such that the total value is maximized, but without the total weight of all the objects to be included in the bag  exceeding a given weight $P$. Formulate the optimization problem that allow to solve the problem.\n",
    "\n",
    "### Solution"
   ]
  },
  {
   "cell_type": "markdown",
   "id": "d5a851aa",
   "metadata": {},
   "source": [
    "## 6.\n",
    "\n",
    "Study which of the following subsets are convex\n",
    "\n",
    "a) $ S = \\{ (x_1,x_2) \\in \\mathbb{R}^2 | x_2 \\geq x_1 \\}$\n",
    "\n",
    "b) $ S = \\{ (x_1,x_2) \\in \\mathbb{R}^2 | x_1^2+x_2^2 <4 \\}$\n",
    "\n",
    "c) $ S = \\{ (x_1,x_2) \\in \\mathbb{R}^2 | x_2 = \\sin x_1\\}$\n",
    "\n",
    "d) $ S = \\{ y \\in \\mathbb{R}^m \\;:\\; y=Ax, \\;x\\in C \\}$, with $C\\subseteq \\mathbb{R}^n$ convex and $A$ a matrix $m\\times m$\n",
    "\n",
    "### Solution\n",
    "\n",
    "#### a) \n",
    "\n",
    "In order to prove if $S$ is convex let's rewrite the set as follows\n",
    "\n",
    "$ S = \\{ (x_1,x_2) \\in \\mathbb{R}^2 | x_2 -x_1 = A \\cdot x \\geq 0 \\}$ \n",
    "\n",
    "where $A = (-1,1)$ and $x=(x_1,x_2)$. \n",
    "\n",
    "Let $x,y\\in S$, i.e., $A \\cdot x \\geq 0, A \\cdot y \\geq 0$ with $x=(x_1,x_2)$ and $y=(y_1,y_2)$. Now, consider any point on the line joining points $x$ and $y$\n",
    "\n",
    "$z = (1-t) x + ty, \\quad t\\in[0,1]$\n",
    "\n",
    "and operating with $A$\n",
    "\n",
    "$Az = (1-t) Ax + tAy$\n",
    "\n",
    "since all the terms are greater or equal to zero, from the definition of $t$ and the definition of an element of $S$, then\n",
    "\n",
    "$Az = (1-t) Ax + tAy \\geq 0$\n",
    "\n",
    "which is the condition to be in $S$, $z\\in S$, then it is a convex set.\n",
    "\n",
    "\n",
    "#### b)\n",
    "\n",
    "Analogous to the previous point,\n",
    "\n",
    "$ S = \\{ (x_1,x_2) \\in \\mathbb{R}^2 |\\; ||x||^2 <4 \\}= \\{ x \\in \\mathbb{R}^2 | \\; ||x|| < 2\\}$\n",
    "\n",
    "Let $x,y\\in S$, i.e., $||x||<2, ||y||<2$, and consider any point on the line joining points\n",
    "\n",
    "$z = (1-t) x + ty, \\quad t\\in[0,1]$\n",
    "\n",
    "In order to prove that $S$ is convex, consider the nor of the vector minus the radius\n",
    "\n",
    "$||z-2||^2 = ((1-t) x + ty)^T ((1-t) x + ty) = ((1-t) x^T + ty^T) ((1-t) x + ty)$\n",
    "$||z-2||^2 = (1-t)^2 x^T x + t^2 y^T y + 2(1-t)t x^T y = (1-t)^2 ||x||^2 + t^2 ||y||^2 + 2(1-t)t x^T y$\n",
    "\n",
    "using triangle inequality\n",
    "\n",
    "$||z-2||^2 \\leq (1-t)^2 ||x||^2 + t^2 ||y||^2 + 2(1-t)t ||x|| \\; ||y||$\n",
    "\n",
    "using the pertenence condition of $S$ (statement $x$ and $y$ conditions)\n",
    "\n",
    "$||z-2||^2 \\leq (1-t)^2 (4) + t^2 (4) + 2(1-t)t (4) = 4(1-2t+t^2+t^2+2t-2t^2)$\n",
    "\n",
    "Finally simplifying,\n",
    "\n",
    "$\\Rightarrow \\boxed{||z-2||^2 \\leq 4}$\n",
    "\n",
    "This result means that $z$ is in $S$, $z\\in S$, then the set $S$ is convex.  \n",
    "\n",
    "#### c)\n",
    "\n",
    "#### d)\n"
   ]
  },
  {
   "cell_type": "code",
   "execution_count": null,
   "id": "0e193868",
   "metadata": {},
   "outputs": [],
   "source": []
  }
 ],
 "metadata": {
  "kernelspec": {
   "display_name": "Python 3 (ipykernel)",
   "language": "python",
   "name": "python3"
  },
  "language_info": {
   "codemirror_mode": {
    "name": "ipython",
    "version": 3
   },
   "file_extension": ".py",
   "mimetype": "text/x-python",
   "name": "python",
   "nbconvert_exporter": "python",
   "pygments_lexer": "ipython3",
   "version": "3.8.13"
  }
 },
 "nbformat": 4,
 "nbformat_minor": 5
}
